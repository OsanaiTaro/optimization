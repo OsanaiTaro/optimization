{
 "cells": [
  {
   "cell_type": "code",
   "execution_count": 1,
   "id": "38957303",
   "metadata": {},
   "outputs": [],
   "source": [
    "import matplotlib.pyplot as plt\n",
    "import cv2\n",
    "import numpy as np\n",
    "import scipy.ndimage\n",
    "from IPython.display import Image, display_png\n",
    "import pandas as pd\n",
    "import math\n",
    "from decimal import Decimal, ROUND_HALF_UP, ROUND_HALF_EVEN\n",
    "from decimal import Decimal\n",
    "import pickle\n",
    "import joblib\n",
    "from multiprocessing import Pool\n",
    "from multiprocessing import Process"
   ]
  },
  {
   "cell_type": "code",
   "execution_count": 2,
   "id": "0766b522",
   "metadata": {},
   "outputs": [
    {
     "data": {
      "text/plain": [
       "array([[[255, 255, 255],\n",
       "        [255, 255, 255],\n",
       "        [255, 255, 255],\n",
       "        ...,\n",
       "        [255, 255, 255],\n",
       "        [255, 255, 255],\n",
       "        [255, 255, 255]],\n",
       "\n",
       "       [[255, 255, 255],\n",
       "        [255, 255, 255],\n",
       "        [255, 255, 255],\n",
       "        ...,\n",
       "        [255, 255, 255],\n",
       "        [255, 255, 255],\n",
       "        [255, 255, 255]],\n",
       "\n",
       "       [[255, 255, 255],\n",
       "        [255, 255, 255],\n",
       "        [255, 255, 255],\n",
       "        ...,\n",
       "        [255, 255, 255],\n",
       "        [255, 255, 255],\n",
       "        [255, 255, 255]],\n",
       "\n",
       "       ...,\n",
       "\n",
       "       [[255, 255, 255],\n",
       "        [255, 255, 255],\n",
       "        [255, 255, 255],\n",
       "        ...,\n",
       "        [255, 255, 255],\n",
       "        [255, 255, 255],\n",
       "        [255, 255, 255]],\n",
       "\n",
       "       [[255, 255, 255],\n",
       "        [255, 255, 255],\n",
       "        [255, 255, 255],\n",
       "        ...,\n",
       "        [255, 255, 255],\n",
       "        [255, 255, 255],\n",
       "        [255, 255, 255]],\n",
       "\n",
       "       [[255, 255, 255],\n",
       "        [255, 255, 255],\n",
       "        [255, 255, 255],\n",
       "        ...,\n",
       "        [255, 255, 255],\n",
       "        [255, 255, 255],\n",
       "        [255, 255, 255]]], dtype=uint8)"
      ]
     },
     "execution_count": 2,
     "metadata": {},
     "output_type": "execute_result"
    }
   ],
   "source": [
    "img = np.full((100, 100, 3), 255, dtype=np.uint8)\n",
    "\n",
    "''''''\n",
    "#左の壁\n",
    "cv2.rectangle(img, (439, 410), (439, 638), (0, 0, 0), thickness=-1)\n",
    "cv2.rectangle(img, (440, 479), (446, 479), (0, 0, 0), thickness=-1)\n",
    "cv2.rectangle(img, (445, 527), (446, 528), (0, 0, 0), thickness=-1)\n",
    "cv2.rectangle(img, (440, 576), (446, 576), (0, 0, 0), thickness=-1)\n",
    "cv2.rectangle(img, (445, 480), (445, 575), (0, 0, 0), thickness=-1)\n",
    "\"\"\"\"\"\""
   ]
  },
  {
   "cell_type": "code",
   "execution_count": 3,
   "id": "50481a2c",
   "metadata": {},
   "outputs": [
    {
     "data": {
      "text/plain": [
       "array([[[255, 255, 255],\n",
       "        [255, 255, 255],\n",
       "        [255, 255, 255],\n",
       "        ...,\n",
       "        [255, 255, 255],\n",
       "        [255, 255, 255],\n",
       "        [255, 255, 255]],\n",
       "\n",
       "       [[255, 255, 255],\n",
       "        [255, 255, 255],\n",
       "        [255, 255, 255],\n",
       "        ...,\n",
       "        [255, 255, 255],\n",
       "        [255, 255, 255],\n",
       "        [255, 255, 255]],\n",
       "\n",
       "       [[255, 255, 255],\n",
       "        [255, 255, 255],\n",
       "        [255, 255, 255],\n",
       "        ...,\n",
       "        [255, 255, 255],\n",
       "        [255, 255, 255],\n",
       "        [255, 255, 255]],\n",
       "\n",
       "       ...,\n",
       "\n",
       "       [[255, 255, 255],\n",
       "        [255, 255, 255],\n",
       "        [255, 255, 255],\n",
       "        ...,\n",
       "        [255, 255, 255],\n",
       "        [255, 255, 255],\n",
       "        [255, 255, 255]],\n",
       "\n",
       "       [[255, 255, 255],\n",
       "        [255, 255, 255],\n",
       "        [255, 255, 255],\n",
       "        ...,\n",
       "        [255, 255, 255],\n",
       "        [255, 255, 255],\n",
       "        [255, 255, 255]],\n",
       "\n",
       "       [[255, 255, 255],\n",
       "        [255, 255, 255],\n",
       "        [255, 255, 255],\n",
       "        ...,\n",
       "        [255, 255, 255],\n",
       "        [255, 255, 255],\n",
       "        [255, 255, 255]]], dtype=uint8)"
      ]
     },
     "execution_count": 3,
     "metadata": {},
     "output_type": "execute_result"
    }
   ],
   "source": [
    "#人工ランドマーク\n",
    "cv2.rectangle(img, (661+100, 457), (661+100, 471), (0, 0, 0), thickness=-1)\n",
    "cv2.rectangle(img, (721+100, 457), (781+100, 457), (0, 0, 0), thickness=-1)\n",
    "cv2.rectangle(img, (781+100, 457), (781+100, 471), (0, 0, 0), thickness=-1)\n",
    "\n",
    "cv2.rectangle(img, (721+100, 517), (721+100, 531), (0, 0, 0), thickness=-1)\n",
    "cv2.rectangle(img, (841+100, 517), (841+100, 531), (0, 0, 0), thickness=-1)\n",
    "\n",
    "cv2.rectangle(img, (541+100, 590), (661+100, 590), (0, 0, 0), thickness=-1)\n",
    "cv2.rectangle(img, (661+100, 576), (721+100, 576), (0, 0, 0), thickness=-1)\n",
    "cv2.rectangle(img, (721+100, 576), (721+100, 590), (0, 0, 0), thickness=-1)\n",
    "cv2.rectangle(img, (781+100, 590), (841+100, 590), (0, 0, 0), thickness=-1)\n",
    "cv2.rectangle(img, (841+100, 576), (841+100, 590), (0, 0, 0), thickness=-1)\n",
    "cv2.rectangle(img, (901+100, 576), (901+100, 590), (0, 0, 0), thickness=-1)\n",
    "cv2.rectangle(img, (901+100, 576), (941+100, 576), (0, 0, 0), thickness=-1)\n",
    "cv2.rectangle(img, (1041+100, 576), (1041+100, 590), (0, 0, 0), thickness=-1)\n",
    "cv2.rectangle(img, (1041+100, 576), (1101+100, 576), (0, 0, 0), thickness=-1)\n"
   ]
  },
  {
   "cell_type": "code",
   "execution_count": 4,
   "id": "02ddbdab",
   "metadata": {},
   "outputs": [
    {
     "data": {
      "text/plain": [
       "True"
      ]
     },
     "execution_count": 4,
     "metadata": {},
     "output_type": "execute_result"
    }
   ],
   "source": [
    "cv2.imwrite('greenhouse_map.png', img)"
   ]
  },
  {
   "cell_type": "code",
   "execution_count": null,
   "id": "5a1338fa",
   "metadata": {},
   "outputs": [],
   "source": []
  }
 ],
 "metadata": {
  "kernelspec": {
   "display_name": "Python 3 (ipykernel)",
   "language": "python",
   "name": "python3"
  },
  "language_info": {
   "codemirror_mode": {
    "name": "ipython",
    "version": 3
   },
   "file_extension": ".py",
   "mimetype": "text/x-python",
   "name": "python",
   "nbconvert_exporter": "python",
   "pygments_lexer": "ipython3",
   "version": "3.9.12"
  }
 },
 "nbformat": 4,
 "nbformat_minor": 5
}
